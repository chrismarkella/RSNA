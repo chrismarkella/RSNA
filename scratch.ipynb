{
 "cells": [
  {
   "cell_type": "code",
   "execution_count": 1,
   "metadata": {
    "colab": {},
    "colab_type": "code",
    "id": "0qlU-nWXZRHu"
   },
   "outputs": [],
   "source": [
    "import pandas as pd\n",
    "import numpy as np\n",
    "import Preprocess\n",
    "import pydicom\n",
    "import matplotlib.pyplot as plt"
   ]
  },
  {
   "cell_type": "code",
   "execution_count": 2,
   "metadata": {},
   "outputs": [
    {
     "name": "stdout",
     "output_type": "stream",
     "text": [
      "Requirement already satisfied: pydicom in /home/juhyeok/miniconda3/lib/python3.7/site-packages (1.3.0)\r\n"
     ]
    }
   ],
   "source": [
    "!pip install pydicom"
   ]
  },
  {
   "cell_type": "code",
   "execution_count": 3,
   "metadata": {},
   "outputs": [],
   "source": [
    "# !cat -n Preprocess.py"
   ]
  },
  {
   "cell_type": "code",
   "execution_count": 4,
   "metadata": {},
   "outputs": [],
   "source": [
    "path = '/home/juhyeok/Documents/RSNA'\n",
    "preprocess = Preprocess.Preprocess(path)"
   ]
  },
  {
   "cell_type": "code",
   "execution_count": 5,
   "metadata": {},
   "outputs": [],
   "source": [
    "# !cat -n Preprocess.py"
   ]
  },
  {
   "cell_type": "code",
   "execution_count": 6,
   "metadata": {},
   "outputs": [],
   "source": [
    "labels = preprocess.label_set('stage_1_train.csv', 0, 18000)\n"
   ]
  },
  {
   "cell_type": "code",
   "execution_count": 7,
   "metadata": {},
   "outputs": [
    {
     "data": {
      "text/plain": [
       "18000"
      ]
     },
     "execution_count": 7,
     "metadata": {},
     "output_type": "execute_result"
    }
   ],
   "source": [
    "len(labels)"
   ]
  },
  {
   "cell_type": "code",
   "execution_count": 8,
   "metadata": {},
   "outputs": [],
   "source": [
    "# type(labels)\n",
    "# labels[60:84]"
   ]
  },
  {
   "cell_type": "code",
   "execution_count": 8,
   "metadata": {},
   "outputs": [],
   "source": [
    "labels = labels['Label']"
   ]
  },
  {
   "cell_type": "code",
   "execution_count": 10,
   "metadata": {},
   "outputs": [
    {
     "data": {
      "text/plain": [
       "18000"
      ]
     },
     "execution_count": 10,
     "metadata": {},
     "output_type": "execute_result"
    }
   ],
   "source": [
    "len(labels)"
   ]
  },
  {
   "cell_type": "code",
   "execution_count": 10,
   "metadata": {},
   "outputs": [
    {
     "data": {
      "text/plain": [
       "3000"
      ]
     },
     "execution_count": 10,
     "metadata": {},
     "output_type": "execute_result"
    }
   ],
   "source": [
    "label_list = np.array(labels)\n",
    "# type(label_list)\n",
    "# label_list.shape\n",
    "\n",
    "train_label = []\n",
    "for i in range(0, len(label_list), 6):\n",
    "    temp = label_list[i:i+6]\n",
    "    sum = 0\n",
    "    for j in range(0, len(temp)):\n",
    "        sum = sum + temp[j] * 2**j\n",
    "    train_label.append(sum)\n",
    "\n",
    "len(train_label)\n",
    "# type(train_label)"
   ]
  },
  {
   "cell_type": "code",
   "execution_count": 11,
   "metadata": {},
   "outputs": [],
   "source": [
    "# train_label[:30]"
   ]
  },
  {
   "cell_type": "code",
   "execution_count": 12,
   "metadata": {},
   "outputs": [],
   "source": [
    "# !cat -n Preprocess.py"
   ]
  },
  {
   "cell_type": "code",
   "execution_count": 13,
   "metadata": {},
   "outputs": [],
   "source": [
    "path_dcmFiles = '/home/juhyeok/Documents/RSNA/stage_1_train_images/*.dcm'\n",
    "dcm_files = Preprocess.Preprocess.read_dcm_files(path_dcmFiles)"
   ]
  },
  {
   "cell_type": "code",
   "execution_count": 14,
   "metadata": {},
   "outputs": [],
   "source": [
    "# !pip install pydicom"
   ]
  },
  {
   "cell_type": "code",
   "execution_count": 15,
   "metadata": {},
   "outputs": [
    {
     "data": {
      "text/plain": [
       "200000"
      ]
     },
     "execution_count": 15,
     "metadata": {},
     "output_type": "execute_result"
    }
   ],
   "source": [
    "len(dcm_files)"
   ]
  },
  {
   "cell_type": "code",
   "execution_count": 17,
   "metadata": {},
   "outputs": [],
   "source": [
    "data = pydicom.dcmread(dcm_files[0])"
   ]
  },
  {
   "cell_type": "code",
   "execution_count": 18,
   "metadata": {},
   "outputs": [],
   "source": [
    "dcm_files = dcm_files[0:3000]"
   ]
  },
  {
   "cell_type": "code",
   "execution_count": 88,
   "metadata": {},
   "outputs": [],
   "source": [
    "# window_center, window_width, intercept, slope = preprocess.get_windowing(data)"
   ]
  },
  {
   "cell_type": "code",
   "execution_count": 89,
   "metadata": {},
   "outputs": [],
   "source": [
    "# type(data.pixel_array)"
   ]
  },
  {
   "cell_type": "code",
   "execution_count": 90,
   "metadata": {},
   "outputs": [],
   "source": [
    "# np.amin(data.pixel_array)"
   ]
  },
  {
   "cell_type": "code",
   "execution_count": 91,
   "metadata": {},
   "outputs": [],
   "source": [
    "# np.amax(data.pixel_array)"
   ]
  },
  {
   "cell_type": "code",
   "execution_count": 92,
   "metadata": {},
   "outputs": [],
   "source": [
    "# type(pydicom)"
   ]
  },
  {
   "cell_type": "code",
   "execution_count": 19,
   "metadata": {},
   "outputs": [],
   "source": [
    "normalized = preprocess.transform_all_pixel_arrays(dcm_files)"
   ]
  },
  {
   "cell_type": "code",
   "execution_count": 94,
   "metadata": {},
   "outputs": [],
   "source": [
    "# before_decimalized = []\n",
    "\n",
    "# for dcm_file in dcm_files:\n",
    "#     data = pydicom.dcmread(dcm_file)\n",
    "#     window_center, window_width, intercept, slope = preprocess.get_windowing(data)\n",
    "#     pixel_array = data.pixel_array\n",
    "#     pixel_array_HU = preprocess.window_image(pixel_array, window_center, window_width, intercept, slope)\n",
    "#     before_decimalized.append(pixel_array_HU)"
   ]
  },
  {
   "cell_type": "code",
   "execution_count": 95,
   "metadata": {},
   "outputs": [],
   "source": [
    "# # min = np.amin(before_decimalized[0])\n",
    "# # max = np.amax(before_decimalized[0])\n",
    "# # print(f'(min, max) = {min, max}')\n",
    "\n",
    "# good_arrays = []\n",
    "# # if element == 1, corresponding image is not broken. element == 0, otherwise\n",
    "# good_index = []\n",
    "# bad_index = []\n",
    "# i = 0\n",
    "# for bd in before_decimalized:\n",
    "#     min = np.amin(bd)\n",
    "#     max = np.amax(bd)\n",
    "#     if (max - min) > 0:\n",
    "#         good_index.append(1)\n",
    "#         bad_index.append(0)\n",
    "#         good_arrays.append(bd)\n",
    "#     else:\n",
    "#         good_index.append(0)\n",
    "#         bad_index.append(1)\n",
    "#     i += 1"
   ]
  },
  {
   "cell_type": "code",
   "execution_count": 96,
   "metadata": {},
   "outputs": [
    {
     "data": {
      "text/plain": [
       "2962"
      ]
     },
     "execution_count": 96,
     "metadata": {},
     "output_type": "execute_result"
    }
   ],
   "source": [
    "# len(good_arrays)"
   ]
  },
  {
   "cell_type": "code",
   "execution_count": 97,
   "metadata": {},
   "outputs": [
    {
     "data": {
      "text/plain": [
       "list"
      ]
     },
     "execution_count": 97,
     "metadata": {},
     "output_type": "execute_result"
    }
   ],
   "source": [
    "# type(good_arrays)"
   ]
  },
  {
   "cell_type": "code",
   "execution_count": 27,
   "metadata": {},
   "outputs": [
    {
     "data": {
      "text/plain": [
       "3000"
      ]
     },
     "execution_count": 27,
     "metadata": {},
     "output_type": "execute_result"
    }
   ],
   "source": [
    "# len(bad_index)"
   ]
  },
  {
   "cell_type": "code",
   "execution_count": 28,
   "metadata": {},
   "outputs": [
    {
     "data": {
      "text/plain": [
       "3000"
      ]
     },
     "execution_count": 28,
     "metadata": {},
     "output_type": "execute_result"
    }
   ],
   "source": [
    "# len(good_index)"
   ]
  },
  {
   "cell_type": "code",
   "execution_count": 29,
   "metadata": {},
   "outputs": [],
   "source": [
    "# good_labels = []\n",
    "# for i in range(len(train_label)):\n",
    "#     if good_index[i] == 1:\n",
    "#         good_labels.append(train_label[i])"
   ]
  },
  {
   "cell_type": "code",
   "execution_count": 30,
   "metadata": {},
   "outputs": [
    {
     "data": {
      "text/plain": [
       "2962"
      ]
     },
     "execution_count": 30,
     "metadata": {},
     "output_type": "execute_result"
    }
   ],
   "source": [
    "# len(good_labels)"
   ]
  },
  {
   "cell_type": "code",
   "execution_count": 31,
   "metadata": {},
   "outputs": [],
   "source": [
    "# good_labels[0:30]"
   ]
  },
  {
   "cell_type": "code",
   "execution_count": 32,
   "metadata": {},
   "outputs": [],
   "source": [
    "# good_index\n"
   ]
  },
  {
   "cell_type": "code",
   "execution_count": 33,
   "metadata": {},
   "outputs": [],
   "source": [
    "# bad_images_data = []\n",
    "# for i in range(len(bad_index)):\n",
    "#     if (bad_index[i] == 1):\n",
    "#         bad_images_data.append(pydicom.dcmread(dcm_files[i]))"
   ]
  },
  {
   "cell_type": "code",
   "execution_count": 34,
   "metadata": {},
   "outputs": [],
   "source": [
    "# bad_images_labels = []\n",
    "# for i in range(len(bad_index)):\n",
    "#     if (bad_index[i] == 1):\n",
    "#         bad_images_labels.append(train_label[i])"
   ]
  },
  {
   "cell_type": "code",
   "execution_count": 35,
   "metadata": {},
   "outputs": [
    {
     "data": {
      "text/plain": [
       "38"
      ]
     },
     "execution_count": 35,
     "metadata": {},
     "output_type": "execute_result"
    }
   ],
   "source": [
    "# len(bad_images_labels)"
   ]
  },
  {
   "cell_type": "code",
   "execution_count": 36,
   "metadata": {},
   "outputs": [],
   "source": [
    "# bad_arrays = []\n",
    "# for bd in before_decimalized:\n",
    "#     min = np.amin(bd)\n",
    "#     max = np.amax(bd)\n",
    "#     if (max - min) <= 0:\n",
    "#         bad_arrays.append(bd)"
   ]
  },
  {
   "cell_type": "code",
   "execution_count": 20,
   "metadata": {},
   "outputs": [],
   "source": [
    "# len(bad_arrays)\n",
    "# bad_images_data"
   ]
  },
  {
   "cell_type": "code",
   "execution_count": 21,
   "metadata": {},
   "outputs": [],
   "source": [
    "# fig=plt.figure(figsize=(15, 10))\n",
    "# columns = 6; rows = 7\n",
    "# for i in range(len(bad_images_data)):\n",
    "    \n",
    "#     fig.add_subplot(rows, columns, i+1)\n",
    "#     plt.imshow(bad_images_data[i].pixel_array, cmap=plt.cm.bone)\n",
    "#     fig.add_subplot"
   ]
  },
  {
   "cell_type": "code",
   "execution_count": 39,
   "metadata": {},
   "outputs": [],
   "source": [
    "# bad_images_labels"
   ]
  },
  {
   "cell_type": "code",
   "execution_count": 22,
   "metadata": {},
   "outputs": [],
   "source": [
    "# for ba in good_arrays:\n",
    "#     min = np.amin(ba)\n",
    "#     max = np.amax(ba)\n",
    "#     print(f'(min, max) = {min, max}')"
   ]
  },
  {
   "cell_type": "code",
   "execution_count": 23,
   "metadata": {},
   "outputs": [],
   "source": [
    "# for ba in bad_arrays:\n",
    "#     min = np.amin(ba)\n",
    "#     max = np.amax(ba)\n",
    "#     print(f'(min, max) = {min, max}')"
   ]
  },
  {
   "cell_type": "code",
   "execution_count": 24,
   "metadata": {},
   "outputs": [],
   "source": [
    "# good_labels # 987 labels\n",
    "# good_arrays # 987 training mages"
   ]
  },
  {
   "cell_type": "code",
   "execution_count": 43,
   "metadata": {},
   "outputs": [],
   "source": [
    "# normalized_dcm_list = preprocess.transform_all_pixel_arrays(good_files)"
   ]
  },
  {
   "cell_type": "code",
   "execution_count": 44,
   "metadata": {},
   "outputs": [],
   "source": [
    "# normalized_dcm_list[50:100]"
   ]
  },
  {
   "cell_type": "code",
   "execution_count": 45,
   "metadata": {},
   "outputs": [],
   "source": [
    "# type(normalized_dcm_list)"
   ]
  },
  {
   "cell_type": "code",
   "execution_count": 25,
   "metadata": {},
   "outputs": [],
   "source": [
    "training_images = np.array(normalized)"
   ]
  },
  {
   "cell_type": "code",
   "execution_count": 27,
   "metadata": {},
   "outputs": [],
   "source": [
    "training_images = training_images.reshape(3000, 512, 512, 1)"
   ]
  },
  {
   "cell_type": "markdown",
   "metadata": {},
   "source": [
    "## training_images.shape"
   ]
  },
  {
   "cell_type": "code",
   "execution_count": 48,
   "metadata": {},
   "outputs": [
    {
     "data": {
      "text/plain": [
       "list"
      ]
     },
     "execution_count": 48,
     "metadata": {},
     "output_type": "execute_result"
    }
   ],
   "source": [
    "type(good_labels)"
   ]
  },
  {
   "cell_type": "code",
   "execution_count": null,
   "metadata": {},
   "outputs": [],
   "source": []
  },
  {
   "cell_type": "code",
   "execution_count": null,
   "metadata": {},
   "outputs": [],
   "source": []
  },
  {
   "cell_type": "code",
   "execution_count": null,
   "metadata": {},
   "outputs": [],
   "source": []
  },
  {
   "cell_type": "code",
   "execution_count": 49,
   "metadata": {},
   "outputs": [],
   "source": [
    "# label_list[12*6:13*6]"
   ]
  },
  {
   "cell_type": "code",
   "execution_count": 50,
   "metadata": {},
   "outputs": [],
   "source": [
    "# label_list[:100]"
   ]
  },
  {
   "cell_type": "code",
   "execution_count": null,
   "metadata": {},
   "outputs": [],
   "source": []
  },
  {
   "cell_type": "code",
   "execution_count": null,
   "metadata": {},
   "outputs": [],
   "source": []
  },
  {
   "cell_type": "code",
   "execution_count": null,
   "metadata": {},
   "outputs": [],
   "source": []
  },
  {
   "cell_type": "code",
   "execution_count": null,
   "metadata": {},
   "outputs": [],
   "source": []
  },
  {
   "cell_type": "code",
   "execution_count": null,
   "metadata": {},
   "outputs": [],
   "source": []
  },
  {
   "cell_type": "code",
   "execution_count": 29,
   "metadata": {},
   "outputs": [],
   "source": [
    "training_label = np.array(train_label)"
   ]
  },
  {
   "cell_type": "code",
   "execution_count": null,
   "metadata": {},
   "outputs": [],
   "source": []
  },
  {
   "cell_type": "code",
   "execution_count": 30,
   "metadata": {},
   "outputs": [
    {
     "data": {
      "text/plain": [
       "3000"
      ]
     },
     "execution_count": 30,
     "metadata": {},
     "output_type": "execute_result"
    }
   ],
   "source": [
    "len(training_label)"
   ]
  },
  {
   "cell_type": "code",
   "execution_count": 31,
   "metadata": {},
   "outputs": [
    {
     "data": {
      "text/plain": [
       "numpy.ndarray"
      ]
     },
     "execution_count": 31,
     "metadata": {},
     "output_type": "execute_result"
    }
   ],
   "source": [
    "type(training_label)"
   ]
  },
  {
   "cell_type": "code",
   "execution_count": 32,
   "metadata": {},
   "outputs": [
    {
     "data": {
      "text/plain": [
       "array([0, 0, 0, ..., 0, 0, 0])"
      ]
     },
     "execution_count": 32,
     "metadata": {},
     "output_type": "execute_result"
    }
   ],
   "source": [
    "training_label"
   ]
  },
  {
   "cell_type": "code",
   "execution_count": 33,
   "metadata": {},
   "outputs": [],
   "source": [
    "# !pip install tensorflow"
   ]
  },
  {
   "cell_type": "code",
   "execution_count": 34,
   "metadata": {},
   "outputs": [
    {
     "name": "stdout",
     "output_type": "stream",
     "text": [
      "Model: \"sequential\"\n",
      "_________________________________________________________________\n",
      "Layer (type)                 Output Shape              Param #   \n",
      "=================================================================\n",
      "conv2d (Conv2D)              (None, 510, 510, 64)      640       \n",
      "_________________________________________________________________\n",
      "max_pooling2d (MaxPooling2D) (None, 255, 255, 64)      0         \n",
      "_________________________________________________________________\n",
      "conv2d_1 (Conv2D)            (None, 253, 253, 64)      36928     \n",
      "_________________________________________________________________\n",
      "max_pooling2d_1 (MaxPooling2 (None, 126, 126, 64)      0         \n",
      "_________________________________________________________________\n",
      "flatten (Flatten)            (None, 1016064)           0         \n",
      "_________________________________________________________________\n",
      "dense (Dense)                (None, 128)               130056320 \n",
      "_________________________________________________________________\n",
      "dense_1 (Dense)              (None, 64)                8256      \n",
      "=================================================================\n",
      "Total params: 130,102,144\n",
      "Trainable params: 130,102,144\n",
      "Non-trainable params: 0\n",
      "_________________________________________________________________\n"
     ]
    }
   ],
   "source": [
    "import tensorflow as tf\n",
    "\n",
    "model = tf.keras.models.Sequential([\n",
    "  tf.keras.layers.Conv2D(64, (3, 3), activation='relu', input_shape=(512, 512, 1)),\n",
    "  tf.keras.layers.MaxPooling2D(2, 2),\n",
    "  tf.keras.layers.Conv2D(64, (3, 3), activation='relu'),\n",
    "  tf.keras.layers.MaxPooling2D(2,2),\n",
    "  tf.keras.layers.Flatten(),\n",
    "  tf.keras.layers.Dense(128, activation='relu'),\n",
    "  tf.keras.layers.Dense(64, activation='softmax')\n",
    "])\n",
    "model.compile(optimizer='adam', loss='sparse_categorical_crossentropy', metrics=['accuracy'])\n",
    "model.summary()"
   ]
  },
  {
   "cell_type": "code",
   "execution_count": 35,
   "metadata": {
    "colab": {},
    "colab_type": "code",
    "id": "akimZfkSZjmF"
   },
   "outputs": [
    {
     "name": "stdout",
     "output_type": "stream",
     "text": [
      "Train on 2550 samples, validate on 450 samples\n",
      "Epoch 1/2\n",
      "2550/2550 [==============================] - 404s 158ms/sample - loss: 1.1706 - accuracy: 0.8286 - val_loss: 0.6892 - val_accuracy: 0.8378\n",
      "Epoch 2/2\n",
      "2550/2550 [==============================] - 391s 153ms/sample - loss: 0.5286 - accuracy: 0.8592 - val_loss: 0.8068 - val_accuracy: 0.8333\n"
     ]
    },
    {
     "data": {
      "text/plain": [
       "<tensorflow.python.keras.callbacks.History at 0x7f6e96620128>"
      ]
     },
     "execution_count": 35,
     "metadata": {},
     "output_type": "execute_result"
    }
   ],
   "source": [
    "model.fit(training_images, training_label, epochs=2, validation_split=0.15, shuffle=True)"
   ]
  },
  {
   "cell_type": "code",
   "execution_count": 37,
   "metadata": {},
   "outputs": [],
   "source": [
    "# model.get_weights()"
   ]
  },
  {
   "cell_type": "code",
   "execution_count": 59,
   "metadata": {},
   "outputs": [],
   "source": [
    "numpy_array = np.array(model.get_weights())"
   ]
  },
  {
   "cell_type": "code",
   "execution_count": 60,
   "metadata": {},
   "outputs": [
    {
     "data": {
      "text/plain": [
       "(8,)"
      ]
     },
     "execution_count": 60,
     "metadata": {},
     "output_type": "execute_result"
    }
   ],
   "source": [
    "numpy_array.shape"
   ]
  },
  {
   "cell_type": "code",
   "execution_count": null,
   "metadata": {},
   "outputs": [],
   "source": []
  },
  {
   "cell_type": "markdown",
   "metadata": {},
   "source": [
    "## feeding one test image into our first trained model"
   ]
  },
  {
   "cell_type": "code",
   "execution_count": 61,
   "metadata": {},
   "outputs": [],
   "source": [
    "path_dcmFiles = '/home/juhyeok/Documents/RSNA/*.dcm'\n",
    "test_image_dcm = Preprocess.Preprocess.read_dcm_files(path_dcmFiles)"
   ]
  },
  {
   "cell_type": "code",
   "execution_count": 135,
   "metadata": {},
   "outputs": [],
   "source": [
    "# test_image = \n",
    "test_image = pydicom.dcmread(dcm_files[49])\n",
    "\n",
    "# test_label = training_label[12]\n",
    "# len(test_image)"
   ]
  },
  {
   "cell_type": "code",
   "execution_count": 136,
   "metadata": {},
   "outputs": [
    {
     "data": {
      "text/plain": [
       "<matplotlib.image.AxesImage at 0x7fe3ff575898>"
      ]
     },
     "execution_count": 136,
     "metadata": {},
     "output_type": "execute_result"
    },
    {
     "data": {
      "image/png": "[encoded data removed]",
      "text/plain": [
       "<Figure size 432x288 with 1 Axes>"
      ]
     },
     "metadata": {
      "needs_background": "light"
     },
     "output_type": "display_data"
    }
   ],
   "source": [
    "plt.imshow(test_image.pixel_array, cmap=plt.cm.bone)"
   ]
  },
  {
   "cell_type": "code",
   "execution_count": null,
   "metadata": {},
   "outputs": [],
   "source": []
  },
  {
   "cell_type": "code",
   "execution_count": 137,
   "metadata": {},
   "outputs": [],
   "source": [
    "def temp_conversion(test_image):\n",
    "    window_center, window_width, intercept, slope = preprocess.get_windowing(test_image)\n",
    "    pixel_array = test_image.pixel_array\n",
    "    pixel_array_HU = preprocess.window_image(pixel_array, window_center, window_width, intercept, slope)\n",
    "    pixel_array_normalized = preprocess.decimalize(pixel_array_HU)\n",
    "    return pixel_array_normalized\n",
    "# test_image_HU = preprocess."
   ]
  },
  {
   "cell_type": "code",
   "execution_count": 138,
   "metadata": {},
   "outputs": [],
   "source": [
    "def train_models(models, epochs):\n",
    "    for model in models:\n",
    "        model.summary()\n",
    "        model.compile(optimizer='adam', loss='sparse_categorical_crossentropy', metrics=['accuracy'])\n",
    "        model.fit(x=training_images, y=training_labels, batch_size=100, epochs=epochs, validation_split=0.2, shuffle=True)\n",
    "        test_loss, test_accuracy = model.evaluate(x=test_images, y=test_labels)\n",
    "        print(f'test loss: {test_loss}, test accuracy: {test_accuracy}')"
   ]
  },
  {
   "cell_type": "code",
   "execution_count": 139,
   "metadata": {},
   "outputs": [
    {
     "data": {
      "text/plain": [
       "array([[0.02454458, 0.01368271, 0.01491209, 0.01726915, 0.01391013,\n",
       "        0.01971266, 0.01421182, 0.01442588, 0.01410363, 0.01931449,\n",
       "        0.01438687, 0.01525386, 0.01424298, 0.01901018, 0.01460804,\n",
       "        0.01425697, 0.01416476, 0.02026148, 0.01363985, 0.01357838,\n",
       "        0.01556095, 0.01808419, 0.01456098, 0.0142353 , 0.01398789,\n",
       "        0.01842326, 0.01460826, 0.01402545, 0.01355229, 0.01799779,\n",
       "        0.01532927, 0.01423289, 0.013569  , 0.02142062, 0.01563826,\n",
       "        0.01527094, 0.01404876, 0.01870379, 0.01464276, 0.01433666,\n",
       "        0.01504064, 0.01636287, 0.01454047, 0.01538235, 0.01464754,\n",
       "        0.01677483, 0.01460785, 0.01418381, 0.01608263, 0.01908026,\n",
       "        0.01463561, 0.01387875, 0.01501692, 0.0178321 , 0.01361287,\n",
       "        0.01567468, 0.0148972 , 0.01511879, 0.0150044 , 0.01524669,\n",
       "        0.01349834, 0.0167005 , 0.01572222, 0.01473788]], dtype=float32)"
      ]
     },
     "execution_count": 139,
     "metadata": {},
     "output_type": "execute_result"
    }
   ],
   "source": [
    "def reshape_image_4d(pixel_array_normalized):\n",
    "    pixel_array_normalized = np.array(pixel_array_normalized)\n",
    "    normalized_pixel_array_4d = pixel_array_normalized.reshape(1, 512, 512, 1)\n",
    "    return normalized_pixel_array_4d\n",
    "\n",
    "model.predict(reshape_image_4d( temp_conversion(test_image) ))"
   ]
  },
  {
   "cell_type": "code",
   "execution_count": 140,
   "metadata": {},
   "outputs": [],
   "source": [
    "# model.predict(test_image)\n",
    "arr = model.predict(reshape_image_4d( temp_conversion(test_image) ))"
   ]
  },
  {
   "cell_type": "code",
   "execution_count": 141,
   "metadata": {},
   "outputs": [
    {
     "data": {
      "text/plain": [
       "0.024544578"
      ]
     },
     "execution_count": 141,
     "metadata": {},
     "output_type": "execute_result"
    }
   ],
   "source": [
    "len(arr)\n",
    "type(arr)\n",
    "np.amax(arr)"
   ]
  },
  {
   "cell_type": "markdown",
   "metadata": {},
   "source": [
    "## feeding one test image into our first trained model\n",
    "### using the first image of the 2nd 1000 training image"
   ]
  },
  {
   "cell_type": "code",
   "execution_count": 67,
   "metadata": {},
   "outputs": [],
   "source": [
    "path_dcmFiles = '/home/juhyeok/Documents/RSNA/input_2nd_1000/rsna-intracranial-hemorrhage-detection/stage_1_train_images/*.dcm'\n",
    "test_image_dcm = Preprocess.Preprocess.read_dcm_files(path_dcmFiles)"
   ]
  },
  {
   "cell_type": "code",
   "execution_count": 68,
   "metadata": {},
   "outputs": [
    {
     "data": {
      "text/plain": [
       "0"
      ]
     },
     "execution_count": 68,
     "metadata": {},
     "output_type": "execute_result"
    }
   ],
   "source": [
    "len(test_image_dcm)"
   ]
  },
  {
   "cell_type": "code",
   "execution_count": 69,
   "metadata": {},
   "outputs": [
    {
     "ename": "IndexError",
     "evalue": "list index out of range",
     "output_type": "error",
     "traceback": [
      "\u001b[0;31m---------------------------------------------------------------------------\u001b[0m",
      "\u001b[0;31mIndexError\u001b[0m                                Traceback (most recent call last)",
      "\u001b[0;32m<ipython-input-69-1d2ccbbd1654>\u001b[0m in \u001b[0;36m<module>\u001b[0;34m\u001b[0m\n\u001b[0;32m----> 1\u001b[0;31m \u001b[0mtest_image\u001b[0m \u001b[0;34m=\u001b[0m \u001b[0mpydicom\u001b[0m\u001b[0;34m.\u001b[0m\u001b[0mdcmread\u001b[0m\u001b[0;34m(\u001b[0m\u001b[0mtest_image_dcm\u001b[0m\u001b[0;34m[\u001b[0m\u001b[0;36m4\u001b[0m\u001b[0;34m]\u001b[0m\u001b[0;34m)\u001b[0m\u001b[0;34m\u001b[0m\u001b[0;34m\u001b[0m\u001b[0m\n\u001b[0m\u001b[1;32m      2\u001b[0m \u001b[0mplt\u001b[0m\u001b[0;34m.\u001b[0m\u001b[0mimshow\u001b[0m\u001b[0;34m(\u001b[0m\u001b[0mtest_image\u001b[0m\u001b[0;34m.\u001b[0m\u001b[0mpixel_array\u001b[0m\u001b[0;34m,\u001b[0m \u001b[0mcmap\u001b[0m\u001b[0;34m=\u001b[0m\u001b[0mplt\u001b[0m\u001b[0;34m.\u001b[0m\u001b[0mcm\u001b[0m\u001b[0;34m.\u001b[0m\u001b[0mbone\u001b[0m\u001b[0;34m)\u001b[0m\u001b[0;34m\u001b[0m\u001b[0;34m\u001b[0m\u001b[0m\n",
      "\u001b[0;31mIndexError\u001b[0m: list index out of range"
     ]
    }
   ],
   "source": [
    "test_image = pydicom.dcmread(test_image_dcm[4])\n",
    "plt.imshow(test_image.pixel_array, cmap=plt.cm.bone)"
   ]
  },
  {
   "cell_type": "code",
   "execution_count": null,
   "metadata": {},
   "outputs": [],
   "source": [
    "def reshape_image_4d(pixel_array_normalized):\n",
    "    pixel_array_normalized = np.array(pixel_array_normalized)\n",
    "    normalized_pixel_array_4d = pixel_array_normalized.reshape(1, 512, 512, 1)\n",
    "    return normalized_pixel_array_4d\n",
    "\n",
    "model.predict(reshape_image_4d( temp_conversion(test_image) ))"
   ]
  },
  {
   "cell_type": "code",
   "execution_count": null,
   "metadata": {},
   "outputs": [],
   "source": []
  },
  {
   "cell_type": "markdown",
   "metadata": {},
   "source": [
    "## Obtain loss and accuracy based on the 2nd 1000 training images\n",
    "### we are using the 2nd 1000 training images as a testing set"
   ]
  },
  {
   "cell_type": "code",
   "execution_count": null,
   "metadata": {},
   "outputs": [],
   "source": [
    "!ls\n",
    "import Preprocess"
   ]
  },
  {
   "cell_type": "code",
   "execution_count": null,
   "metadata": {},
   "outputs": [],
   "source": [
    "# path_2 = '/home/juhyeok/Documents/RSNA'\n",
    "# preprocess = Preprocess.Preprocess(path_2)\n",
    "# labels = preprocess.label_set('stage_1_train.csv', 6000)"
   ]
  },
  {
   "cell_type": "code",
   "execution_count": null,
   "metadata": {},
   "outputs": [],
   "source": [
    "# !cat -n Preprocess.py\n",
    "from os.path import join\n",
    "import os\n",
    "\n",
    "def label_set(path, directory, start):\n",
    "    \"\"\"\n",
    "    Obtains a set of train labels and add two columns for Sub_type and Patient_ID\n",
    "    Then, sort per ID column and take the first 6,000 labels\n",
    "    \"\"\"\n",
    "    train_labels = pd.read_csv(os.path.join(path, directory))\n",
    "    train_labels['Sub_type'] = train_labels['ID'].str.split(\"_\", n=3, expand=True)[\n",
    "        2]\n",
    "    train_labels['PatientID'] = train_labels['ID'].str.split(\"_\", n=3, expand=True)[\n",
    "        1]\n",
    "    train_labels = train_labels.sort_values('ID')\n",
    "    labels = train_labels[start:start+6000]\n",
    "\n",
    "    return labels"
   ]
  },
  {
   "cell_type": "code",
   "execution_count": null,
   "metadata": {},
   "outputs": [],
   "source": [
    "labels = label_set(path_2, 'stage_1_train.csv', 6000)"
   ]
  },
  {
   "cell_type": "code",
   "execution_count": null,
   "metadata": {},
   "outputs": [],
   "source": [
    "len(labels)"
   ]
  },
  {
   "cell_type": "code",
   "execution_count": null,
   "metadata": {},
   "outputs": [],
   "source": [
    "labels.head(10)"
   ]
  },
  {
   "cell_type": "code",
   "execution_count": null,
   "metadata": {},
   "outputs": [],
   "source": [
    "labels2 = labels[1000:7000]"
   ]
  },
  {
   "cell_type": "code",
   "execution_count": null,
   "metadata": {},
   "outputs": [],
   "source": [
    "len(labels2)"
   ]
  },
  {
   "cell_type": "code",
   "execution_count": null,
   "metadata": {},
   "outputs": [],
   "source": [
    "label_list = np.array(labels['Label'])\n",
    "# type(label_list)\n",
    "# label_list.shape\n",
    "\n",
    "train_label = []\n",
    "for i in range(0, len(label_list), 6):\n",
    "    temp = label_list[i:i+6]\n",
    "    flag = False\n",
    "    index = 10\n",
    "    for j in range(0, len(temp)):\n",
    "        if temp[j] == 1:\n",
    "            flag = True\n",
    "            index = j\n",
    "    if flag == True:\n",
    "        train_label.append(index)\n",
    "    else:\n",
    "        train_label.append(6)\n",
    "\n",
    "len(train_label)\n",
    "# type(train_label)"
   ]
  },
  {
   "cell_type": "code",
   "execution_count": null,
   "metadata": {},
   "outputs": [],
   "source": []
  }
 ],
 "metadata": {
  "colab": {
   "collapsed_sections": [],
   "name": "Model1.ipynb",
   "provenance": []
  },
  "kernelspec": {
   "display_name": "Python 3",
   "language": "python",
   "name": "python3"
  },
  "language_info": {
   "codemirror_mode": {
    "name": "ipython",
    "version": 3
   },
   "file_extension": ".py",
   "mimetype": "text/x-python",
   "name": "python",
   "nbconvert_exporter": "python",
   "pygments_lexer": "ipython3",
   "version": "3.7.3"
  }
 },
 "nbformat": 4,
 "nbformat_minor": 1
}
